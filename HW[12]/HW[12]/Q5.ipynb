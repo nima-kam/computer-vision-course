{
 "cells": [
  {
   "cell_type": "code",
   "execution_count": null,
   "metadata": {},
   "outputs": [],
   "source": [
    "detection=[[11\t,5\t,19,\t26],\n",
    "[18\t,39\t,31,\t23],\n",
    "[55\t,72\t,34,\t36],\n",
    "[114\t,31\t,14,\t21],\n",
    "[24\t,98\t,21,\t34],\n",
    "[36\t,150\t,41,\t26],\n",
    "[124\t,136\t,29,\t35],\n",
    "[92\t,153\t,27,\t47],]\n",
    "\n",
    "gt=[\n",
    "[153,21\t,20\t,25]\n",
    "[116,30\t,13\t,23]\n",
    "[125,135\t,30\t,35]\n",
    "[30,160\t,30\t,20]\n",
    "[10,5\t,20\t,25]\n",
    "]\n",
    "\n"
   ]
  },
  {
   "cell_type": "code",
   "execution_count": null,
   "metadata": {},
   "outputs": [],
   "source": []
  },
  {
   "cell_type": "code",
   "execution_count": null,
   "metadata": {},
   "outputs": [],
   "source": [
    "\n",
    "            "
   ]
  }
 ],
 "metadata": {
  "kernelspec": {
   "display_name": "Computer_Vision",
   "language": "python",
   "name": "python3"
  },
  "language_info": {
   "name": "python",
   "version": "3.9.6 (tags/v3.9.6:db3ff76, Jun 28 2021, 15:26:21) [MSC v.1929 64 bit (AMD64)]"
  },
  "orig_nbformat": 4,
  "vscode": {
   "interpreter": {
    "hash": "161d1d2367e87beb148d83cea2ba8e94bb054adb6c31f7eea7c3ff653280750a"
   }
  }
 },
 "nbformat": 4,
 "nbformat_minor": 2
}
