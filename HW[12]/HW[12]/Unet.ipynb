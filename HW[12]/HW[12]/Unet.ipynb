{
  "cells": [
    {
      "cell_type": "markdown",
      "metadata": {
        "id": "_wrZ8Zm89_KH"
      },
      "source": [
        "#Library"
      ]
    },
    {
      "cell_type": "code",
      "execution_count": null,
      "metadata": {
        "id": "oxe4SisD0onc"
      },
      "outputs": [],
      "source": [
        "import os\n",
        "import cv2\n",
        "import pdb\n",
        "import scipy.io\n",
        "import numpy as np\n",
        "import tensorflow as tf\n",
        "from tensorflow import keras\n",
        "import tensorflow_datasets as tfds\n",
        "from tensorflow.keras import layers\n",
        "from matplotlib import pyplot as plt\n",
        "from tensorflow.keras.utils import plot_model\n",
        "from tensorflow.keras.applications import VGG16\n",
        "from tensorflow.keras.utils import plot_model\n",
        "from tensorflow.keras.applications.vgg16 import preprocess_input"
      ]
    },
    {
      "cell_type": "markdown",
      "metadata": {
        "id": "mk04Nqd3-CLF"
      },
      "source": [
        "#Prepare dataset"
      ]
    },
    {
      "cell_type": "markdown",
      "metadata": {
        "id": "-jfTR-bbXzP4"
      },
      "source": [
        "##donwload"
      ]
    },
    {
      "cell_type": "code",
      "execution_count": null,
      "metadata": {
        "colab": {
          "base_uri": "https://localhost:8080/"
        },
        "id": "8idjNJCMAB0x",
        "outputId": "6f3ef3d2-244f-456b-a698-b39b6b0eb30f"
      },
      "outputs": [
        {
          "name": "stdout",
          "output_type": "stream",
          "text": [
            "--2022-12-24 12:36:36--  http://adas.cvc.uab.es/s2uad/Download/KITTI_SEMANTIC.zip\n",
            "Resolving adas.cvc.uab.es (adas.cvc.uab.es)... 158.109.8.54\n",
            "Connecting to adas.cvc.uab.es (adas.cvc.uab.es)|158.109.8.54|:80... connected.\n",
            "HTTP request sent, awaiting response... 200 OK\n",
            "Length: 114312538 (109M) [application/zip]\n",
            "Saving to: ‘KITTI_SEMANTIC.zip.1’\n",
            "\n",
            "KITTI_SEMANTIC.zip. 100%[===================>] 109.02M  6.82MB/s    in 18s     \n",
            "\n",
            "2022-12-24 12:36:54 (6.11 MB/s) - ‘KITTI_SEMANTIC.zip.1’ saved [114312538/114312538]\n",
            "\n"
          ]
        }
      ],
      "source": [
        "!wget http://adas.cvc.uab.es/s2uad/Download/KITTI_SEMANTIC.zip"
      ]
    },
    {
      "cell_type": "code",
      "execution_count": null,
      "metadata": {
        "colab": {
          "base_uri": "https://localhost:8080/"
        },
        "id": "-6ITKMqwAjJz",
        "outputId": "090cdef1-8711-4ef5-eaa7-be67ac41006c"
      },
      "outputs": [
        {
          "name": "stdout",
          "output_type": "stream",
          "text": [
            "replace KITTI_SEMANTIC/Validation_07/GT/000294.png? [y]es, [n]o, [A]ll, [N]one, [r]ename: N\n"
          ]
        }
      ],
      "source": [
        "!unzip -q \"/content/KITTI_SEMANTIC.zip\""
      ]
    },
    {
      "cell_type": "markdown",
      "metadata": {
        "id": "g1VDNYecX2P0"
      },
      "source": [
        "##define generator"
      ]
    },
    {
      "cell_type": "code",
      "execution_count": null,
      "metadata": {
        "id": "FkUVnOueBVkH"
      },
      "outputs": [],
      "source": [
        "kitti_classes = {\n",
        "    'Building':   [128, 0,   0],\n",
        "    'Vegetation': [128, 128, 0],\n",
        "    'Sky':        [128, 128, 128],\n",
        "    'Car':        [64,  0,   128],\n",
        "    'Sign':       [192, 128, 128],\n",
        "    'Road':       [128, 64,  128],\n",
        "    'Pedestrian': [64,  64,  0],\n",
        "    'Fence':      [64,  64,  128],\n",
        "    'Pole':       [192, 192, 128],\n",
        "    'Sidewalk':   [0,   0,   192],\n",
        "    'Cyclist':    [0,   128, 192],\n",
        "}\n",
        "\n",
        "class DataGenerator(keras.utils.Sequence):\n",
        "    def __init__(self, path, batch_size=1, shuffle=True, subset='train'):\n",
        "        self.path = path\n",
        "        self.batch_size = batch_size\n",
        "        self.shuffle = shuffle\n",
        "        self.subset = subset\n",
        "\n",
        "        rgb_path = path + '/RGB/'\n",
        "        gt_path = path + '/GT/'\n",
        "\n",
        "        self.images = []\n",
        "        self.segments = []\n",
        "        for name in np.sort(os.listdir(rgb_path)):\n",
        "            rgb_name = rgb_path + name\n",
        "            gt_name = gt_path + name\n",
        "\n",
        "            rgb = cv2.imread(rgb_name)\n",
        "            rgb = cv2.resize(rgb, (128,128))\n",
        "            gt = cv2.imread(gt_name)\n",
        "            gt = cv2.resize(gt, (128,128))\n",
        "            gt = cv2.cvtColor(gt, cv2.COLOR_BGR2RGB)\n",
        "\n",
        "            labels = np.zeros(gt.shape[:2])\n",
        "            for i, (key, value) in enumerate(kitti_classes.items()):\n",
        "              labels[np.sum(gt == value, axis=2) == 3] = i+1\n",
        "\n",
        "            mask = labels == 0\n",
        "            labels = keras.utils.to_categorical(labels-1, num_classes=len(kitti_classes))\n",
        "            labels[mask==1, :] = 0\n",
        "\n",
        "            self.images.append(rgb)\n",
        "            self.segments.append(labels)\n",
        "\n",
        "        self.on_epoch_end()\n",
        "\n",
        "    def __len__(self):\n",
        "        return int(np.ceil(len(self.images) / self.batch_size))\n",
        "\n",
        "\n",
        "    def __getitem__(self, index):\n",
        "        image = self.images[index]\n",
        "        segment = self.segments[index]\n",
        "\n",
        "        d0 = np.mod(image.shape[0], 16)\n",
        "        d1 = np.mod(image.shape[1], 16)\n",
        "\n",
        "        image = image[d0:, d1:, :]\n",
        "        segment = segment[d0:, d1:, :]\n",
        "\n",
        "        if self.subset == 'train':\n",
        "            if np.random.uniform() > 0.5:\n",
        "                image = cv2.flip(image, 1)\n",
        "                segment = cv2.flip(segment, 1)\n",
        "        return np.expand_dims(image, axis=0), np.expand_dims(segment, axis=0)\n",
        "\n",
        "    # Updates indices after each epoch\n",
        "    def on_epoch_end(self):\n",
        "        self.indices = np.arange(len(self.images))\n",
        "        if self.shuffle == True:\n",
        "            np.random.shuffle(self.indices)\n",
        "\n",
        "train_generator = DataGenerator('/content/KITTI_SEMANTIC/Training_00')\n",
        "valid_generator = DataGenerator('/content/KITTI_SEMANTIC/Validation_07', shuffle=False, subset='valid')"
      ]
    },
    {
      "cell_type": "code",
      "execution_count": null,
      "metadata": {
        "colab": {
          "base_uri": "https://localhost:8080/"
        },
        "id": "3ovP2zlFhXn_",
        "outputId": "675d5f05-861b-43a6-e43b-ba218d29cd1d"
      },
      "outputs": [
        {
          "data": {
            "text/plain": [
              "<matplotlib.image.AxesImage at 0x7faa94008a60>"
            ]
          },
          "execution_count": 4,
          "metadata": {},
          "output_type": "execute_result"
        },
        {
          "data": {
            "image/png": "[encoded data removed]",
            "text/plain": [
              "<Figure size 432x288 with 1 Axes>"
            ]
          },
          "metadata": {
            "needs_background": "light"
          },
          "output_type": "display_data"
        }
      ],
      "source": [
        "gt = cv2.imread('/content/KITTI_SEMANTIC/Training_00/GT/000000.png')\n",
        "gt = cv2.cvtColor(gt, cv2.COLOR_BGR2RGB)\n",
        "plt.imshow(gt)"
      ]
    },
    {
      "cell_type": "code",
      "execution_count": null,
      "metadata": {
        "id": "CtHUPnsahtR7"
      },
      "outputs": [],
      "source": [
        "labels = np.zeros(gt.shape[:2])\n",
        "for i, (key, value) in enumerate(kitti_classes.items()):\n",
        "  labels[np.sum(gt == value, axis=2) == 3] = i+1\n",
        "\n",
        "mask = labels == 0\n",
        "labels = keras.utils.to_categorical(labels-1, num_classes=len(kitti_classes))\n",
        "labels[mask==1, :] = 0"
      ]
    },
    {
      "cell_type": "code",
      "execution_count": null,
      "metadata": {
        "colab": {
          "base_uri": "https://localhost:8080/"
        },
        "id": "o01h9A7ji4bv",
        "outputId": "dbfb5d8e-1fea-47c1-fd67-36d31979b4ee"
      },
      "outputs": [
        {
          "data": {
            "text/plain": [
              "0.0"
            ]
          },
          "execution_count": 6,
          "metadata": {},
          "output_type": "execute_result"
        }
      ],
      "source": [
        "np.sum(labels == 4) / np.sum(labels >= 0)"
      ]
    },
    {
      "cell_type": "markdown",
      "metadata": {
        "id": "HRHuamIR_MZn"
      },
      "source": [
        "#Define Architecture"
      ]
    },
    {
      "cell_type": "markdown",
      "metadata": {
        "id": "EtsRdWBftd-U"
      },
      "source": [
        "<font color='red'>**Questions**</font>\n",
        "\n",
        "1-what's the effect of padding is equal same? What's another value for padding?\n",
        "\n",
        "2- explain the affection of activation function.\n",
        "\n",
        "3- explain the affection of using kernel_initializer in layers."
      ]
    },
    {
      "cell_type": "code",
      "execution_count": null,
      "metadata": {
        "id": "WC_Kf0vl0vqP"
      },
      "outputs": [],
      "source": [
        "def double_conv_block(x, n_filters):\n",
        "   x = layers.Conv2D(n_filters, 3, padding = \"same\", activation = \"relu\", kernel_initializer = \"he_normal\")(x)\n",
        "   x = layers.Conv2D(n_filters, 3, padding = \"same\", activation = \"relu\", kernel_initializer = \"he_normal\")(x)\n",
        "   return x"
      ]
    },
    {
      "cell_type": "code",
      "execution_count": null,
      "metadata": {
        "id": "0zv_7jW50vnu"
      },
      "outputs": [],
      "source": [
        "def downsample_block(x, n_filters):\n",
        "   f = double_conv_block(x, n_filters)\n",
        "   p = layers.MaxPool2D(2)(f)\n",
        "   p = layers.Dropout(0.3)(p)\n",
        "   return f, p"
      ]
    },
    {
      "cell_type": "markdown",
      "metadata": {
        "id": "BR-7Kz-Pu8L3"
      },
      "source": [
        "<font color='red'>**Questions**</font>\n",
        "\n",
        "4- explain what's the difference between Conv2DTranspose and Conv2D."
      ]
    },
    {
      "cell_type": "code",
      "execution_count": null,
      "metadata": {
        "id": "zYp5OWnX0vk3"
      },
      "outputs": [],
      "source": [
        "def upsample_block(x, conv_features, n_filters):\n",
        "   x = layers.Conv2DTranspose(n_filters, 3, 2, padding=\"same\")(x)\n",
        "   x = layers.concatenate([x, conv_features])\n",
        "   x = layers.Dropout(0.3)(x)\n",
        "   x = double_conv_block(x, n_filters)\n",
        "\n",
        "   return x"
      ]
    },
    {
      "cell_type": "markdown",
      "metadata": {
        "id": "xsDPkLEYvh42"
      },
      "source": [
        "<font color='red'>**Questions**</font>\n",
        "\n",
        "5- explain downsample_block, double_conv_block and upsample_block functions."
      ]
    },
    {
      "cell_type": "code",
      "execution_count": null,
      "metadata": {
        "id": "aAkhKEzX0viO"
      },
      "outputs": [],
      "source": [
        "def build_unet_model(): \n",
        "   inputs = layers.Input(shape=(128,128,3))\n",
        "   f1, p1 = downsample_block(inputs, 64)\n",
        "   f2, p2 = downsample_block(p1, 128)\n",
        "   f3, p3 = downsample_block(p2, 256)\n",
        "   f4, p4 = downsample_block(p3, 512)\n",
        "   bottleneck = double_conv_block(p4, 1024)\n",
        "   u6 = upsample_block(bottleneck, f4, 512)\n",
        "   u7 = upsample_block(u6, f3, 256)\n",
        "   u8 = upsample_block(u7, f2, 128)\n",
        "   u9 = upsample_block(u8, f1, 64)\n",
        "   outputs = layers.Conv2D(11, 1, padding=\"valid\", activation = \"softmax\")(u9)\n",
        "   unet_model = tf.keras.Model(inputs, outputs, name=\"U-Net\")\n",
        "   return unet_model"
      ]
    },
    {
      "cell_type": "code",
      "execution_count": null,
      "metadata": {
        "id": "CaWAK9Dy1CkR"
      },
      "outputs": [],
      "source": [
        "unet_model = build_unet_model()"
      ]
    },
    {
      "cell_type": "markdown",
      "metadata": {
        "id": "pgU3bdA8wFoz"
      },
      "source": [
        "<font color='red'>**Attention**</font>\n",
        "\n",
        "* Before seeing the result of the following cell, try to compute the parameters of each layer, that's useful!"
      ]
    },
    {
      "cell_type": "code",
      "execution_count": null,
      "metadata": {
        "colab": {
          "base_uri": "https://localhost:8080/"
        },
        "id": "l8eZzLdKBgk9",
        "outputId": "f40824f3-24a0-4e32-ce29-1d2bf8d8bf0a"
      },
      "outputs": [
        {
          "name": "stdout",
          "output_type": "stream",
          "text": [
            "Model: \"U-Net\"\n",
            "__________________________________________________________________________________________________\n",
            " Layer (type)                   Output Shape         Param #     Connected to                     \n",
            "==================================================================================================\n",
            " input_1 (InputLayer)           [(None, 128, 128, 3  0           []                               \n",
            "                                )]                                                                \n",
            "                                                                                                  \n",
            " conv2d (Conv2D)                (None, 128, 128, 64  1792        ['input_1[0][0]']                \n",
            "                                )                                                                 \n",
            "                                                                                                  \n",
            " conv2d_1 (Conv2D)              (None, 128, 128, 64  36928       ['conv2d[0][0]']                 \n",
            "                                )                                                                 \n",
            "                                                                                                  \n",
            " max_pooling2d (MaxPooling2D)   (None, 64, 64, 64)   0           ['conv2d_1[0][0]']               \n",
            "                                                                                                  \n",
            " dropout (Dropout)              (None, 64, 64, 64)   0           ['max_pooling2d[0][0]']          \n",
            "                                                                                                  \n",
            " conv2d_2 (Conv2D)              (None, 64, 64, 128)  73856       ['dropout[0][0]']                \n",
            "                                                                                                  \n",
            " conv2d_3 (Conv2D)              (None, 64, 64, 128)  147584      ['conv2d_2[0][0]']               \n",
            "                                                                                                  \n",
            " max_pooling2d_1 (MaxPooling2D)  (None, 32, 32, 128)  0          ['conv2d_3[0][0]']               \n",
            "                                                                                                  \n",
            " dropout_1 (Dropout)            (None, 32, 32, 128)  0           ['max_pooling2d_1[0][0]']        \n",
            "                                                                                                  \n",
            " conv2d_4 (Conv2D)              (None, 32, 32, 256)  295168      ['dropout_1[0][0]']              \n",
            "                                                                                                  \n",
            " conv2d_5 (Conv2D)              (None, 32, 32, 256)  590080      ['conv2d_4[0][0]']               \n",
            "                                                                                                  \n",
            " max_pooling2d_2 (MaxPooling2D)  (None, 16, 16, 256)  0          ['conv2d_5[0][0]']               \n",
            "                                                                                                  \n",
            " dropout_2 (Dropout)            (None, 16, 16, 256)  0           ['max_pooling2d_2[0][0]']        \n",
            "                                                                                                  \n",
            " conv2d_6 (Conv2D)              (None, 16, 16, 512)  1180160     ['dropout_2[0][0]']              \n",
            "                                                                                                  \n",
            " conv2d_7 (Conv2D)              (None, 16, 16, 512)  2359808     ['conv2d_6[0][0]']               \n",
            "                                                                                                  \n",
            " max_pooling2d_3 (MaxPooling2D)  (None, 8, 8, 512)   0           ['conv2d_7[0][0]']               \n",
            "                                                                                                  \n",
            " dropout_3 (Dropout)            (None, 8, 8, 512)    0           ['max_pooling2d_3[0][0]']        \n",
            "                                                                                                  \n",
            " conv2d_8 (Conv2D)              (None, 8, 8, 1024)   4719616     ['dropout_3[0][0]']              \n",
            "                                                                                                  \n",
            " conv2d_9 (Conv2D)              (None, 8, 8, 1024)   9438208     ['conv2d_8[0][0]']               \n",
            "                                                                                                  \n",
            " conv2d_transpose (Conv2DTransp  (None, 16, 16, 512)  4719104    ['conv2d_9[0][0]']               \n",
            " ose)                                                                                             \n",
            "                                                                                                  \n",
            " concatenate (Concatenate)      (None, 16, 16, 1024  0           ['conv2d_transpose[0][0]',       \n",
            "                                )                                 'conv2d_7[0][0]']               \n",
            "                                                                                                  \n",
            " dropout_4 (Dropout)            (None, 16, 16, 1024  0           ['concatenate[0][0]']            \n",
            "                                )                                                                 \n",
            "                                                                                                  \n",
            " conv2d_10 (Conv2D)             (None, 16, 16, 512)  4719104     ['dropout_4[0][0]']              \n",
            "                                                                                                  \n",
            " conv2d_11 (Conv2D)             (None, 16, 16, 512)  2359808     ['conv2d_10[0][0]']              \n",
            "                                                                                                  \n",
            " conv2d_transpose_1 (Conv2DTran  (None, 32, 32, 256)  1179904    ['conv2d_11[0][0]']              \n",
            " spose)                                                                                           \n",
            "                                                                                                  \n",
            " concatenate_1 (Concatenate)    (None, 32, 32, 512)  0           ['conv2d_transpose_1[0][0]',     \n",
            "                                                                  'conv2d_5[0][0]']               \n",
            "                                                                                                  \n",
            " dropout_5 (Dropout)            (None, 32, 32, 512)  0           ['concatenate_1[0][0]']          \n",
            "                                                                                                  \n",
            " conv2d_12 (Conv2D)             (None, 32, 32, 256)  1179904     ['dropout_5[0][0]']              \n",
            "                                                                                                  \n",
            " conv2d_13 (Conv2D)             (None, 32, 32, 256)  590080      ['conv2d_12[0][0]']              \n",
            "                                                                                                  \n",
            " conv2d_transpose_2 (Conv2DTran  (None, 64, 64, 128)  295040     ['conv2d_13[0][0]']              \n",
            " spose)                                                                                           \n",
            "                                                                                                  \n",
            " concatenate_2 (Concatenate)    (None, 64, 64, 256)  0           ['conv2d_transpose_2[0][0]',     \n",
            "                                                                  'conv2d_3[0][0]']               \n",
            "                                                                                                  \n",
            " dropout_6 (Dropout)            (None, 64, 64, 256)  0           ['concatenate_2[0][0]']          \n",
            "                                                                                                  \n",
            " conv2d_14 (Conv2D)             (None, 64, 64, 128)  295040      ['dropout_6[0][0]']              \n",
            "                                                                                                  \n",
            " conv2d_15 (Conv2D)             (None, 64, 64, 128)  147584      ['conv2d_14[0][0]']              \n",
            "                                                                                                  \n",
            " conv2d_transpose_3 (Conv2DTran  (None, 128, 128, 64  73792      ['conv2d_15[0][0]']              \n",
            " spose)                         )                                                                 \n",
            "                                                                                                  \n",
            " concatenate_3 (Concatenate)    (None, 128, 128, 12  0           ['conv2d_transpose_3[0][0]',     \n",
            "                                8)                                'conv2d_1[0][0]']               \n",
            "                                                                                                  \n",
            " dropout_7 (Dropout)            (None, 128, 128, 12  0           ['concatenate_3[0][0]']          \n",
            "                                8)                                                                \n",
            "                                                                                                  \n",
            " conv2d_16 (Conv2D)             (None, 128, 128, 64  73792       ['dropout_7[0][0]']              \n",
            "                                )                                                                 \n",
            "                                                                                                  \n",
            " conv2d_17 (Conv2D)             (None, 128, 128, 64  36928       ['conv2d_16[0][0]']              \n",
            "                                )                                                                 \n",
            "                                                                                                  \n",
            " conv2d_18 (Conv2D)             (None, 128, 128, 11  715         ['conv2d_17[0][0]']              \n",
            "                                )                                                                 \n",
            "                                                                                                  \n",
            "==================================================================================================\n",
            "Total params: 34,513,995\n",
            "Trainable params: 34,513,995\n",
            "Non-trainable params: 0\n",
            "__________________________________________________________________________________________________\n"
          ]
        }
      ],
      "source": [
        "unet_model.summary()"
      ]
    },
    {
      "cell_type": "markdown",
      "metadata": {
        "id": "uBmByYgB_Xg0"
      },
      "source": [
        "#Train Model"
      ]
    },
    {
      "cell_type": "markdown",
      "metadata": {
        "id": "zmVRLftKwqp-"
      },
      "source": [
        "<font color='red'>**Questions**</font>\n",
        "\n",
        "6- why use an optimizer in learning?\n",
        "\n",
        "7- why use compile function?\n",
        "\n",
        "8- why are we select categorical_crossentropy in the loss of function?\n"
      ]
    },
    {
      "cell_type": "code",
      "execution_count": null,
      "metadata": {
        "id": "Ezs_JFo1AEze"
      },
      "outputs": [],
      "source": [
        "unet_model.compile(optimizer=keras.optimizers.Adam(lr=1e-5),\n",
        "              loss='categorical_crossentropy',\n",
        "              metrics=['accuracy'])"
      ]
    },
    {
      "cell_type": "code",
      "execution_count": null,
      "metadata": {
        "colab": {
          "base_uri": "https://localhost:8080/"
        },
        "id": "zy3w2AQbHNT5",
        "outputId": "20d45f02-db7c-4a18-d951-ac65d646cfc6"
      },
      "outputs": [
        {
          "data": {
            "text/plain": [
              "(128, 128, 11)"
            ]
          },
          "execution_count": 14,
          "metadata": {},
          "output_type": "execute_result"
        }
      ],
      "source": [
        "train_generator.segments[0].shape"
      ]
    },
    {
      "cell_type": "code",
      "execution_count": null,
      "metadata": {
        "colab": {
          "base_uri": "https://localhost:8080/"
        },
        "id": "0c1Q8qykHVRW",
        "outputId": "36a0544c-e572-4738-b28a-eaeb66cd44a0"
      },
      "outputs": [
        {
          "data": {
            "text/plain": [
              "TensorShape([None, 128, 128, 11])"
            ]
          },
          "execution_count": 15,
          "metadata": {},
          "output_type": "execute_result"
        }
      ],
      "source": [
        "unet_model.outputs[0].shape"
      ]
    },
    {
      "cell_type": "markdown",
      "metadata": {
        "id": "eDzGWF_MxTHE"
      },
      "source": [
        "<font color='red'>**Questions**</font>\n",
        "\n",
        "9 - explain earlystopping function\n",
        "\n",
        "10 - explain different between fit and compile functions in Keras \n",
        "\n",
        "11- explain the difference between batch and epoch\n"
      ]
    },
    {
      "cell_type": "code",
      "execution_count": null,
      "metadata": {
        "colab": {
          "base_uri": "https://localhost:8080/"
        },
        "id": "AH_LILJf_7Xt",
        "outputId": "5b39de9b-e898-448c-8b83-65c41e18c7d8"
      },
      "outputs": [
        {
          "name": "stdout",
          "output_type": "stream",
          "text": [
            "Epoch 1/100\n",
            "100/100 [==============================] - 14s 75ms/step - loss: 78.8504 - accuracy: 0.1860 - val_loss: 36.2186 - val_accuracy: 0.3131\n",
            "Epoch 2/100\n",
            "100/100 [==============================] - 6s 64ms/step - loss: 42.4515 - accuracy: 0.2382 - val_loss: 26.5311 - val_accuracy: 0.3218\n",
            "Epoch 3/100\n",
            "100/100 [==============================] - 6s 59ms/step - loss: 31.0965 - accuracy: 0.2505 - val_loss: 22.0838 - val_accuracy: 0.3257\n",
            "Epoch 4/100\n",
            "100/100 [==============================] - 6s 58ms/step - loss: 23.8444 - accuracy: 0.2599 - val_loss: 17.9379 - val_accuracy: 0.3322\n",
            "Epoch 5/100\n",
            "100/100 [==============================] - 6s 57ms/step - loss: 18.9398 - accuracy: 0.2699 - val_loss: 14.5791 - val_accuracy: 0.3359\n",
            "Epoch 6/100\n",
            "100/100 [==============================] - 6s 57ms/step - loss: 15.3541 - accuracy: 0.2757 - val_loss: 11.7276 - val_accuracy: 0.3416\n",
            "Epoch 7/100\n",
            "100/100 [==============================] - 6s 58ms/step - loss: 12.7323 - accuracy: 0.2747 - val_loss: 8.9744 - val_accuracy: 0.3470\n",
            "Epoch 8/100\n",
            "100/100 [==============================] - 6s 57ms/step - loss: 10.5804 - accuracy: 0.2781 - val_loss: 6.6037 - val_accuracy: 0.3463\n",
            "Epoch 9/100\n",
            "100/100 [==============================] - 6s 59ms/step - loss: 8.7406 - accuracy: 0.2657 - val_loss: 4.4803 - val_accuracy: 0.3138\n",
            "Epoch 10/100\n",
            "100/100 [==============================] - 6s 57ms/step - loss: 6.7001 - accuracy: 0.2361 - val_loss: 2.6905 - val_accuracy: 0.1597\n",
            "Epoch 11/100\n",
            "100/100 [==============================] - 6s 57ms/step - loss: 4.1322 - accuracy: 0.1948 - val_loss: 2.3618 - val_accuracy: 0.1717\n",
            "Epoch 12/100\n",
            "100/100 [==============================] - 6s 57ms/step - loss: 2.9477 - accuracy: 0.1770 - val_loss: 2.3255 - val_accuracy: 0.1770\n",
            "Epoch 13/100\n",
            "100/100 [==============================] - 6s 58ms/step - loss: 2.6477 - accuracy: 0.1830 - val_loss: 2.3064 - val_accuracy: 0.1783\n",
            "Epoch 14/100\n",
            "100/100 [==============================] - 6s 58ms/step - loss: 2.5362 - accuracy: 0.1927 - val_loss: 2.2949 - val_accuracy: 0.1789\n",
            "Epoch 15/100\n",
            "100/100 [==============================] - 6s 56ms/step - loss: 2.4680 - accuracy: 0.2027 - val_loss: 2.2879 - val_accuracy: 0.1788\n",
            "Epoch 16/100\n",
            "100/100 [==============================] - 6s 56ms/step - loss: 2.4318 - accuracy: 0.2078 - val_loss: 2.2826 - val_accuracy: 0.1790\n",
            "Epoch 17/100\n",
            "100/100 [==============================] - 6s 57ms/step - loss: 2.4031 - accuracy: 0.2145 - val_loss: 2.2781 - val_accuracy: 0.1793\n",
            "Epoch 18/100\n",
            "100/100 [==============================] - 6s 58ms/step - loss: 2.3796 - accuracy: 0.2184 - val_loss: 2.2746 - val_accuracy: 0.1796\n",
            "Epoch 19/100\n",
            "100/100 [==============================] - 6s 58ms/step - loss: 2.3631 - accuracy: 0.2216 - val_loss: 2.2714 - val_accuracy: 0.1798\n",
            "Epoch 20/100\n",
            "100/100 [==============================] - 6s 58ms/step - loss: 2.3505 - accuracy: 0.2247 - val_loss: 2.2686 - val_accuracy: 0.1800\n",
            "Epoch 21/100\n",
            "100/100 [==============================] - 6s 57ms/step - loss: 2.3346 - accuracy: 0.2267 - val_loss: 2.2660 - val_accuracy: 0.1801\n",
            "Epoch 22/100\n",
            "100/100 [==============================] - 6s 58ms/step - loss: 2.3253 - accuracy: 0.2291 - val_loss: 2.2635 - val_accuracy: 0.1802\n",
            "Epoch 23/100\n",
            "100/100 [==============================] - 6s 57ms/step - loss: 2.3178 - accuracy: 0.2309 - val_loss: 2.2611 - val_accuracy: 0.1803\n",
            "Epoch 24/100\n",
            "100/100 [==============================] - 6s 57ms/step - loss: 2.3087 - accuracy: 0.2321 - val_loss: 2.2588 - val_accuracy: 0.1804\n",
            "Epoch 25/100\n",
            "100/100 [==============================] - 6s 57ms/step - loss: 2.3026 - accuracy: 0.2336 - val_loss: 2.2566 - val_accuracy: 0.1805\n",
            "Epoch 26/100\n",
            "100/100 [==============================] - 6s 57ms/step - loss: 2.2955 - accuracy: 0.2346 - val_loss: 2.2544 - val_accuracy: 0.1805\n",
            "Epoch 27/100\n",
            "100/100 [==============================] - 6s 57ms/step - loss: 2.2908 - accuracy: 0.2356 - val_loss: 2.2522 - val_accuracy: 0.1806\n",
            "Epoch 28/100\n",
            "100/100 [==============================] - 6s 57ms/step - loss: 2.2846 - accuracy: 0.2362 - val_loss: 2.2501 - val_accuracy: 0.1807\n",
            "Epoch 29/100\n",
            "100/100 [==============================] - 6s 57ms/step - loss: 2.2805 - accuracy: 0.2371 - val_loss: 2.2480 - val_accuracy: 0.1807\n",
            "Epoch 30/100\n",
            "100/100 [==============================] - 6s 58ms/step - loss: 2.2768 - accuracy: 0.2376 - val_loss: 2.2459 - val_accuracy: 0.1808\n",
            "Epoch 31/100\n",
            "100/100 [==============================] - 6s 57ms/step - loss: 2.2724 - accuracy: 0.2385 - val_loss: 2.2438 - val_accuracy: 0.1808\n",
            "Epoch 32/100\n",
            "100/100 [==============================] - 6s 56ms/step - loss: 2.2686 - accuracy: 0.2388 - val_loss: 2.2417 - val_accuracy: 0.1808\n",
            "Epoch 33/100\n",
            "100/100 [==============================] - 6s 56ms/step - loss: 2.2633 - accuracy: 0.2389 - val_loss: 2.2397 - val_accuracy: 0.1809\n",
            "Epoch 34/100\n",
            "100/100 [==============================] - 6s 57ms/step - loss: 2.2604 - accuracy: 0.2389 - val_loss: 2.2376 - val_accuracy: 0.1809\n",
            "Epoch 35/100\n",
            "100/100 [==============================] - 6s 57ms/step - loss: 2.2556 - accuracy: 0.2386 - val_loss: 2.2356 - val_accuracy: 0.1809\n",
            "Epoch 36/100\n",
            "100/100 [==============================] - 6s 57ms/step - loss: 2.2520 - accuracy: 0.2369 - val_loss: 2.2336 - val_accuracy: 0.1809\n",
            "Epoch 37/100\n",
            "100/100 [==============================] - 6s 57ms/step - loss: 2.2450 - accuracy: 0.2323 - val_loss: 2.2316 - val_accuracy: 0.1809\n",
            "Epoch 38/100\n",
            "100/100 [==============================] - 6s 58ms/step - loss: 2.2353 - accuracy: 0.2279 - val_loss: 2.2296 - val_accuracy: 0.1809\n",
            "Epoch 39/100\n",
            "100/100 [==============================] - 6s 58ms/step - loss: 2.2225 - accuracy: 0.2282 - val_loss: 2.2276 - val_accuracy: 0.1808\n",
            "Epoch 40/100\n",
            "100/100 [==============================] - 6s 58ms/step - loss: 2.2054 - accuracy: 0.2288 - val_loss: 2.2256 - val_accuracy: 0.1808\n",
            "Epoch 41/100\n",
            "100/100 [==============================] - 6s 57ms/step - loss: 2.1783 - accuracy: 0.2315 - val_loss: 2.2239 - val_accuracy: 0.1808\n",
            "Epoch 42/100\n",
            "100/100 [==============================] - 6s 57ms/step - loss: 2.1584 - accuracy: 0.2355 - val_loss: 2.2198 - val_accuracy: 0.1806\n",
            "Epoch 43/100\n",
            "100/100 [==============================] - 6s 55ms/step - loss: 2.1295 - accuracy: 0.2374 - val_loss: 2.2203 - val_accuracy: 0.1808\n",
            "Epoch 44/100\n",
            "100/100 [==============================] - 6s 56ms/step - loss: 2.1124 - accuracy: 0.2387 - val_loss: 2.2136 - val_accuracy: 0.1803\n",
            "Epoch 45/100\n",
            "100/100 [==============================] - 6s 55ms/step - loss: 2.0887 - accuracy: 0.2402 - val_loss: 2.2154 - val_accuracy: 0.1807\n",
            "Epoch 46/100\n",
            "100/100 [==============================] - 6s 57ms/step - loss: 2.0790 - accuracy: 0.2413 - val_loss: 2.2150 - val_accuracy: 0.1808\n",
            "Epoch 47/100\n",
            "100/100 [==============================] - 6s 58ms/step - loss: 2.0492 - accuracy: 0.2416 - val_loss: 2.2130 - val_accuracy: 0.1808\n",
            "Epoch 48/100\n",
            "100/100 [==============================] - 6s 58ms/step - loss: 2.0339 - accuracy: 0.2421 - val_loss: 2.2107 - val_accuracy: 0.1808\n",
            "Epoch 49/100\n",
            "100/100 [==============================] - 6s 58ms/step - loss: 2.0078 - accuracy: 0.2430 - val_loss: 2.2046 - val_accuracy: 0.1805\n",
            "Epoch 50/100\n",
            "100/100 [==============================] - 6s 57ms/step - loss: 1.9821 - accuracy: 0.2439 - val_loss: 2.2055 - val_accuracy: 0.1807\n",
            "Epoch 51/100\n",
            "100/100 [==============================] - 6s 57ms/step - loss: 1.9685 - accuracy: 0.2441 - val_loss: 2.1854 - val_accuracy: 0.1803\n",
            "Epoch 52/100\n",
            "100/100 [==============================] - 6s 56ms/step - loss: 1.9512 - accuracy: 0.2448 - val_loss: 2.1928 - val_accuracy: 0.1806\n",
            "Epoch 53/100\n",
            "100/100 [==============================] - 6s 56ms/step - loss: 1.9333 - accuracy: 0.2451 - val_loss: 2.1455 - val_accuracy: 0.1799\n",
            "Epoch 54/100\n",
            "100/100 [==============================] - 6s 56ms/step - loss: 1.9246 - accuracy: 0.2456 - val_loss: 2.1332 - val_accuracy: 0.1797\n",
            "Epoch 55/100\n",
            "100/100 [==============================] - 6s 56ms/step - loss: 1.9114 - accuracy: 0.2460 - val_loss: 2.1246 - val_accuracy: 0.1796\n",
            "Epoch 56/100\n",
            "100/100 [==============================] - 6s 57ms/step - loss: 1.8991 - accuracy: 0.2465 - val_loss: 2.1224 - val_accuracy: 0.1795\n",
            "Epoch 57/100\n",
            "100/100 [==============================] - 6s 57ms/step - loss: 1.8804 - accuracy: 0.2467 - val_loss: 2.1146 - val_accuracy: 0.1792\n",
            "Epoch 58/100\n",
            "100/100 [==============================] - 6s 56ms/step - loss: 1.8725 - accuracy: 0.2471 - val_loss: 2.1440 - val_accuracy: 0.1789\n",
            "Epoch 59/100\n",
            "100/100 [==============================] - 6s 56ms/step - loss: 1.8659 - accuracy: 0.2480 - val_loss: 2.1198 - val_accuracy: 0.1782\n",
            "Epoch 60/100\n",
            "100/100 [==============================] - 6s 57ms/step - loss: 1.8521 - accuracy: 0.4042 - val_loss: 2.1152 - val_accuracy: 0.4333\n",
            "Epoch 61/100\n",
            "100/100 [==============================] - 6s 58ms/step - loss: 1.8462 - accuracy: 0.4478 - val_loss: 2.1054 - val_accuracy: 0.4387\n",
            "Epoch 62/100\n",
            "100/100 [==============================] - 6s 57ms/step - loss: 1.8285 - accuracy: 0.4438 - val_loss: 2.0873 - val_accuracy: 0.4489\n",
            "Epoch 63/100\n",
            "100/100 [==============================] - 6s 56ms/step - loss: 1.8212 - accuracy: 0.4364 - val_loss: 2.0789 - val_accuracy: 0.4523\n",
            "Epoch 64/100\n",
            "100/100 [==============================] - 6s 57ms/step - loss: 1.8068 - accuracy: 0.4370 - val_loss: 2.0671 - val_accuracy: 0.4580\n",
            "Epoch 65/100\n",
            "100/100 [==============================] - 6s 55ms/step - loss: 1.7945 - accuracy: 0.4324 - val_loss: 2.0785 - val_accuracy: 0.4490\n",
            "Epoch 66/100\n",
            "100/100 [==============================] - 6s 56ms/step - loss: 1.7842 - accuracy: 0.4212 - val_loss: 2.0751 - val_accuracy: 0.4503\n",
            "Epoch 67/100\n",
            "100/100 [==============================] - 6s 55ms/step - loss: 1.7700 - accuracy: 0.4189 - val_loss: 2.1052 - val_accuracy: 0.4276\n",
            "Epoch 68/100\n",
            "100/100 [==============================] - 6s 57ms/step - loss: 1.7581 - accuracy: 0.4108 - val_loss: 2.0714 - val_accuracy: 0.4464\n",
            "Epoch 69/100\n",
            "100/100 [==============================] - 6s 57ms/step - loss: 1.7503 - accuracy: 0.4030 - val_loss: 2.0665 - val_accuracy: 0.4469\n",
            "Epoch 70/100\n",
            "100/100 [==============================] - 6s 56ms/step - loss: 1.7362 - accuracy: 0.3956 - val_loss: 2.0671 - val_accuracy: 0.4397\n",
            "Epoch 71/100\n",
            "100/100 [==============================] - 6s 58ms/step - loss: 1.7101 - accuracy: 0.3866 - val_loss: 2.0554 - val_accuracy: 0.4441\n",
            "Epoch 72/100\n",
            "100/100 [==============================] - 6s 59ms/step - loss: 1.6962 - accuracy: 0.3820 - val_loss: 2.0436 - val_accuracy: 0.4459\n",
            "Epoch 73/100\n",
            "100/100 [==============================] - 6s 58ms/step - loss: 1.6759 - accuracy: 0.3802 - val_loss: 2.0191 - val_accuracy: 0.4434\n",
            "Epoch 74/100\n",
            "100/100 [==============================] - 6s 58ms/step - loss: 1.6521 - accuracy: 0.3770 - val_loss: 1.9992 - val_accuracy: 0.4424\n",
            "Epoch 75/100\n",
            "100/100 [==============================] - 6s 56ms/step - loss: 1.6368 - accuracy: 0.3761 - val_loss: 2.0019 - val_accuracy: 0.4435\n",
            "Epoch 76/100\n",
            "100/100 [==============================] - 6s 56ms/step - loss: 1.6186 - accuracy: 0.3806 - val_loss: 2.0083 - val_accuracy: 0.4482\n",
            "Epoch 77/100\n",
            "100/100 [==============================] - 6s 56ms/step - loss: 1.6031 - accuracy: 0.3899 - val_loss: 2.0048 - val_accuracy: 0.4448\n",
            "Epoch 78/100\n",
            "100/100 [==============================] - 6s 57ms/step - loss: 1.5854 - accuracy: 0.3972 - val_loss: 1.9272 - val_accuracy: 0.4148\n",
            "Epoch 79/100\n",
            "100/100 [==============================] - 6s 57ms/step - loss: 1.5707 - accuracy: 0.4039 - val_loss: 1.9191 - val_accuracy: 0.4039\n",
            "Epoch 80/100\n",
            "100/100 [==============================] - 6s 57ms/step - loss: 1.5618 - accuracy: 0.4125 - val_loss: 1.9637 - val_accuracy: 0.4234\n",
            "Epoch 81/100\n",
            "100/100 [==============================] - 6s 59ms/step - loss: 1.5378 - accuracy: 0.4190 - val_loss: 1.9097 - val_accuracy: 0.4129\n",
            "Epoch 82/100\n",
            "100/100 [==============================] - 6s 58ms/step - loss: 1.5368 - accuracy: 0.4303 - val_loss: 1.9032 - val_accuracy: 0.4163\n",
            "Epoch 83/100\n",
            "100/100 [==============================] - 6s 57ms/step - loss: 1.5095 - accuracy: 0.4463 - val_loss: 1.9303 - val_accuracy: 0.4171\n",
            "Epoch 84/100\n",
            "100/100 [==============================] - 6s 58ms/step - loss: 1.4970 - accuracy: 0.4544 - val_loss: 1.8047 - val_accuracy: 0.3957\n",
            "Epoch 85/100\n",
            "100/100 [==============================] - 6s 57ms/step - loss: 1.4606 - accuracy: 0.4669 - val_loss: 1.8208 - val_accuracy: 0.4413\n",
            "Epoch 86/100\n",
            "100/100 [==============================] - 6s 58ms/step - loss: 1.4455 - accuracy: 0.4751 - val_loss: 1.7666 - val_accuracy: 0.4450\n",
            "Epoch 87/100\n",
            "100/100 [==============================] - 6s 57ms/step - loss: 1.4282 - accuracy: 0.4807 - val_loss: 1.8210 - val_accuracy: 0.4462\n",
            "Epoch 88/100\n",
            "100/100 [==============================] - 6s 56ms/step - loss: 1.4080 - accuracy: 0.4839 - val_loss: 1.7483 - val_accuracy: 0.4508\n",
            "Epoch 89/100\n",
            "100/100 [==============================] - 6s 56ms/step - loss: 1.3959 - accuracy: 0.4847 - val_loss: 1.6995 - val_accuracy: 0.4570\n",
            "Epoch 90/100\n",
            "100/100 [==============================] - 6s 56ms/step - loss: 1.3851 - accuracy: 0.4892 - val_loss: 1.6706 - val_accuracy: 0.4519\n",
            "Epoch 91/100\n",
            "100/100 [==============================] - 6s 55ms/step - loss: 1.3768 - accuracy: 0.4928 - val_loss: 1.6925 - val_accuracy: 0.4489\n",
            "Epoch 92/100\n",
            "100/100 [==============================] - 6s 57ms/step - loss: 1.3673 - accuracy: 0.4951 - val_loss: 1.6848 - val_accuracy: 0.4447\n",
            "Epoch 93/100\n",
            "100/100 [==============================] - 6s 57ms/step - loss: 1.3476 - accuracy: 0.4964 - val_loss: 1.6836 - val_accuracy: 0.4535\n",
            "Epoch 94/100\n",
            "100/100 [==============================] - 6s 58ms/step - loss: 1.3386 - accuracy: 0.4984 - val_loss: 1.6413 - val_accuracy: 0.4488\n",
            "Epoch 95/100\n",
            "100/100 [==============================] - 6s 56ms/step - loss: 1.3304 - accuracy: 0.4999 - val_loss: 1.6582 - val_accuracy: 0.4565\n",
            "Epoch 96/100\n",
            "100/100 [==============================] - 6s 57ms/step - loss: 1.3215 - accuracy: 0.5026 - val_loss: 1.6419 - val_accuracy: 0.4603\n",
            "Epoch 97/100\n",
            "100/100 [==============================] - 6s 58ms/step - loss: 1.3007 - accuracy: 0.5192 - val_loss: 1.6064 - val_accuracy: 0.4903\n",
            "Epoch 98/100\n",
            "100/100 [==============================] - 6s 58ms/step - loss: 1.1971 - accuracy: 0.6026 - val_loss: 1.5423 - val_accuracy: 0.5660\n",
            "Epoch 99/100\n",
            "100/100 [==============================] - 6s 58ms/step - loss: 1.1311 - accuracy: 0.6276 - val_loss: 1.4821 - val_accuracy: 0.5551\n",
            "Epoch 100/100\n",
            "100/100 [==============================] - 6s 58ms/step - loss: 1.0771 - accuracy: 0.6444 - val_loss: 1.4057 - val_accuracy: 0.5963\n"
          ]
        }
      ],
      "source": [
        "\n",
        "early_stopping = keras.callbacks.EarlyStopping(monitor='val_loss',\n",
        "                                               min_delta=0,\n",
        "                                               patience=5,\n",
        "                                               restore_best_weights=True)\n",
        "\n",
        "# Train model on dataset\n",
        "history = unet_model.fit(train_generator,\n",
        "                    validation_data=valid_generator,\n",
        "                    epochs=100,\n",
        "                    callbacks=[early_stopping])"
      ]
    },
    {
      "cell_type": "markdown",
      "metadata": {
        "id": "_aZRDjJiXoMa"
      },
      "source": [
        "#Inference"
      ]
    },
    {
      "cell_type": "code",
      "execution_count": null,
      "metadata": {
        "id": "DOCG_8TsQ_sl"
      },
      "outputs": [],
      "source": [
        "def deisplay_prediction(x,y_prediction):\n",
        "  color_dict = {0:(255,0,0),1:(0,0,255),2:(0,255,0),3:(128,128,128),4:(128,0,0),5:(0,128,0),6:(0,0,128),7:(255,255,255),8:(0,0,0),9:(128,255,128),10:(255,128,255)}\n",
        "  fig = plt.figure()    \n",
        "  plt.subplot(1, 2, 1)  \n",
        "  plt.title(\"original image\")  \n",
        "  plt.imshow(x)\n",
        "  prediction_image = x\n",
        "  flag = 0\n",
        "  for row in range(y_prediction[0].shape[0]):\n",
        "    for column in range(y_prediction[0].shape[1]):\n",
        "      prediction_image[row][column][:] = color_dict[np.argmax(y_prediction[0,row,column,:])]\n",
        "  plt.subplot(1, 2, 2)\n",
        "  plt.title(\"segmented image\")\n",
        "  plt.imshow(prediction_image)\n",
        "  plt.show()\n",
        "  # return prediction_image    \n",
        "\n",
        "      "
      ]
    },
    {
      "cell_type": "code",
      "execution_count": null,
      "metadata": {
        "colab": {
          "base_uri": "https://localhost:8080/",
          "height": 235
        },
        "id": "trdVJQJlO761",
        "outputId": "8b3e43a7-4b5e-4942-b5df-3b2c2f8b2d5c"
      },
      "outputs": [
        {
          "name": "stdout",
          "output_type": "stream",
          "text": [
            "1/1 [==============================] - 0s 261ms/step\n"
          ]
        },
        {
          "data": {
            "image/png": "[encoded data removed]",
            "text/plain": [
              "<Figure size 432x288 with 2 Axes>"
            ]
          },
          "metadata": {
            "needs_background": "light"
          },
          "output_type": "display_data"
        }
      ],
      "source": [
        "X, Y_true = valid_generator.__getitem__(20)\n",
        "deisplay_prediction(X[0],unet_model.predict(X))\n"
      ]
    }
  ],
  "metadata": {
    "accelerator": "GPU",
    "colab": {
      "collapsed_sections": [
        "_wrZ8Zm89_KH",
        "-jfTR-bbXzP4",
        "g1VDNYecX2P0"
      ],
      "provenance": []
    },
    "gpuClass": "standard",
    "kernelspec": {
      "display_name": "Computer_Vision",
      "language": "python",
      "name": "python3"
    },
    "language_info": {
      "name": "python",
      "version": "3.9.6 (tags/v3.9.6:db3ff76, Jun 28 2021, 15:26:21) [MSC v.1929 64 bit (AMD64)]"
    },
    "vscode": {
      "interpreter": {
        "hash": "161d1d2367e87beb148d83cea2ba8e94bb054adb6c31f7eea7c3ff653280750a"
      }
    }
  },
  "nbformat": 4,
  "nbformat_minor": 0
}
