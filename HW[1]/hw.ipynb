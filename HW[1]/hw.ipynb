{
 "cells": [
  {
   "cell_type": "code",
   "execution_count": 9,
   "metadata": {},
   "outputs": [],
   "source": [
    "import cv2\n",
    "import numpy as np\n",
    "import matplotlib.pyplot as pl\n",
    "\n",
    "image_path = \"./HW[1]/\"\n",
    "window_name = 'Image'\n",
    "%matplotlib inline"
   ]
  },
  {
   "cell_type": "code",
   "execution_count": 3,
   "metadata": {},
   "outputs": [
    {
     "data": {
      "text/plain": [
       "(459, 611, 3)"
      ]
     },
     "execution_count": 3,
     "metadata": {},
     "output_type": "execute_result"
    }
   ],
   "source": [
    "bg_path = image_path+'background.png'\n",
    "bg_img=cv2.imread(bg_path)\n",
    "\n",
    "bg_img.shape"
   ]
  },
  {
   "cell_type": "code",
   "execution_count": 4,
   "metadata": {},
   "outputs": [],
   "source": [
    "bg_img=cv2.cvtColor(bg_img,cv2.COLOR_BGR2RGB)"
   ]
  },
  {
   "cell_type": "code",
   "execution_count": 5,
   "metadata": {},
   "outputs": [
    {
     "data": {
      "text/plain": [
       "(290, 570, 3)"
      ]
     },
     "execution_count": 5,
     "metadata": {},
     "output_type": "execute_result"
    }
   ],
   "source": [
    "resize_img=cv2.resize(bg_img, dsize=[570,290])\n",
    "\n",
    "resize_img.shape\n"
   ]
  },
  {
   "cell_type": "code",
   "execution_count": 13,
   "metadata": {},
   "outputs": [],
   "source": [
    "def draw_rect(img, x, y, width, height):\n",
    "    color=(50,100,50)\n",
    "    thickness=5\n",
    "\n",
    "    image=cv2.line(img, pt1=(x, y), pt2=(x+width, y), color=color, thickness=thickness)\n",
    "    image=cv2.line(img, pt1=(x, y), pt2=(x, y+height), color=color, thickness=thickness)\n",
    "    image=cv2.line(img, pt1=(x+width, y), pt2=(x+width, y+height), color=color, thickness=thickness)\n",
    "    image=cv2.line(img, pt1=(x, y+height),pt2=(x+width, y+height), color=color, thickness=thickness)\n",
    "\n",
    "    return image\n",
    "\n",
    "x=5\n",
    "y=5\n",
    "width=560\n",
    "height=280\n",
    "rec_img=draw_rect(resize_img, x=x,y=y, width=width, height=height)"
   ]
  },
  {
   "cell_type": "code",
   "execution_count": 24,
   "metadata": {},
   "outputs": [],
   "source": [
    "def draw_circles(img,x,y,width,height):\n",
    "    radius = 9\n",
    "    image=cv2.circle(img,(x,y),radius,(150,0,30),-1)\n",
    "    image=cv2.circle(img,(x+width,y),radius,(10,0,10),-1)\n",
    "    image=cv2.circle(img,(x+width,y+height),radius,(130,0,150),-1)\n",
    "    image=cv2.circle(img,(x,y+height),radius,(30,20,250),-1)\n",
    "\n",
    "    return(image)\n",
    "\n",
    "circ_img=draw_circles(rec_img,x,y,width,height)\n",
    "cv2.imshow(window_name, circ_img)\n",
    "cv2.waitKey(0)\n",
    "cv2.destroyAllWindows()"
   ]
  },
  {
   "cell_type": "code",
   "execution_count": 28,
   "metadata": {},
   "outputs": [
    {
     "name": "stdout",
     "output_type": "stream",
     "text": [
      "(278, 557, 3)\n"
     ]
    }
   ],
   "source": [
    "end_path=image_path+\"end.png\"\n",
    "end_img=cv2.imread(end_path)\n",
    "print(end_img.shape)\n",
    "circ_img[x:x+end_img.shape[0],y:y+end_img.shape[1]]=end_img\n",
    "cv2.imshow(window_name, circ_img)\n",
    "cv2.waitKey(0)\n",
    "cv2.destroyAllWindows()"
   ]
  },
  {
   "cell_type": "code",
   "execution_count": 29,
   "metadata": {},
   "outputs": [
    {
     "data": {
      "text/plain": [
       "True"
      ]
     },
     "execution_count": 29,
     "metadata": {},
     "output_type": "execute_result"
    }
   ],
   "source": [
    "save_path=image_path+'mypic.jpg'\n",
    "cv2.imwrite(save_path,circ_img)\n",
    "\n"
   ]
  }
 ],
 "metadata": {
  "kernelspec": {
   "display_name": "Python 3.9.6 ('Computer_Vision': venv)",
   "language": "python",
   "name": "python3"
  },
  "language_info": {
   "codemirror_mode": {
    "name": "ipython",
    "version": 3
   },
   "file_extension": ".py",
   "mimetype": "text/x-python",
   "name": "python",
   "nbconvert_exporter": "python",
   "pygments_lexer": "ipython3",
   "version": "3.9.6"
  },
  "orig_nbformat": 4,
  "vscode": {
   "interpreter": {
    "hash": "161d1d2367e87beb148d83cea2ba8e94bb054adb6c31f7eea7c3ff653280750a"
   }
  }
 },
 "nbformat": 4,
 "nbformat_minor": 2
}
